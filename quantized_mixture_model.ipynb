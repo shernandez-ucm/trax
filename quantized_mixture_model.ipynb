{
 "cells": [
  {
   "cell_type": "code",
   "execution_count": 1,
   "metadata": {},
   "outputs": [],
   "source": [
    "import matplotlib.pyplot as plt\n",
    "import numpy as np\n",
    "import pandas as pd\n",
    "\n",
    "import jax\n",
    "import jax.numpy as jnp\n",
    "import distrax\n",
    "from functools import partial\n",
    "from jax.scipy import stats\n",
    "from jax.scipy.special import logsumexp"
   ]
  },
  {
   "cell_type": "code",
   "execution_count": 2,
   "metadata": {},
   "outputs": [],
   "source": [
    "def get_dataloader(X,batch_size,key,axis=0):\n",
    "    num_train=X.shape[axis]\n",
    "    indices = jnp.array(list(range(0,num_train)))\n",
    "    indices=jax.random.permutation(key,indices)\n",
    "    for i in range(0, len(indices),batch_size):\n",
    "        batch_indices = jnp.array(indices[i: i+batch_size])\n",
    "        yield X[batch_indices]\n",
    "\n",
    "def loglike_one_component(weight, mu, scale, data):\n",
    "    return jnp.log(weight) + distrax.Normal(mu,scale).log_prob(data)\n",
    "\n",
    "def loglike_across_components(weights, mus, scales, data):\n",
    "    loglike_components = jax.vmap(partial(loglike_one_component,data=data))(\n",
    "        weights, mus,scales\n",
    "    )\n",
    "    return logsumexp(loglike_components)\n",
    "\n",
    "def log_likelihood(params, data):\n",
    "    params['weights']=jax.nn.softmax(params['weights'])\n",
    "    params['sigmas']=jax.vmap(jax.nn.softplus)(params['sigmas'])\n",
    "    ll_per_data = jax.vmap(partial(loglike_across_components,params['weights'],params['mus'],params['sigmas']))(data)\n",
    "    return -1.0*jnp.mean(ll_per_data)\n",
    "\n",
    "def log_prior(params):\n",
    "    log_prior=jax.tree_util.tree_map(lambda p: distrax.Normal(0.0,1.0).log_prob(p), params['mus']).sum()\n",
    "    log_prior+=distrax.Dirichlet(jnp.ones(3)).log_prob(params['weights'])\n",
    "    return log_prior\n",
    "\n",
    "def log_post(params,batch):\n",
    "    n_data=batch.shape[0]\n",
    "    return -1.0/n_data*log_prior(params) + log_likelihood(params,batch)"
   ]
  },
  {
   "cell_type": "code",
   "execution_count": 3,
   "metadata": {},
   "outputs": [],
   "source": [
    "grad_log_post=jax.jit(jax.grad(log_post))\n",
    "\n",
    "#@partial(jax.jit, static_argnums=(3,4))\n",
    "def sgld_kernel_momemtum(key, params, momemtum,grad_log_post, dt,batch):\n",
    "    gamma,eps=0.9,1e-6\n",
    "    key, subkey = jax.random.split(key, 2)\n",
    "    grads = grad_log_post(params, batch)\n",
    "    norm_grads=jax.tree_util.tree_map(lambda g: g/jnp.linalg.norm(g),grads)\n",
    "    squared_grads=jax.tree_util.tree_map(lambda g: jnp.square(g),grads)\n",
    "    momemtum=jax.tree_util.tree_map(lambda m,s : gamma*m+(1-gamma)*s,momemtum,squared_grads)\n",
    "    noise=jax.tree_util.tree_map(lambda p: jax.random.normal(key=subkey,shape=p.shape), params)\n",
    "    params=jax.tree_util.tree_map(lambda p, g,m,n: p-0.5*dt*g/(m+eps)+jnp.sqrt(dt)*n, params, grads,momemtum,noise)\n",
    "    return key, params,momemtum\n",
    "\n",
    "def sgld(key,log_post, grad_log_post, num_samples,\n",
    "                             dt, x_0,X,batch_size):\n",
    "    samples = list()\n",
    "    loss=list()\n",
    "    param = x_0\n",
    "    key_data, key_model = jax.random.split(key, 2)\n",
    "    schedule_fn = lambda k: dt * k ** (-0.55)\n",
    "    momemtum=jax.tree_util.tree_map(lambda p:jnp.zeros_like(p),param)\n",
    "    key_data_batch=jax.random.split(key_data, num_samples)\n",
    "    for i in range(1,num_samples+1):\n",
    "        train_data=get_dataloader(X,batch_size,key_data_batch[i])\n",
    "        for _,X_batch in enumerate(train_data):\n",
    "            key_model,param,momemtum = sgld_kernel_momemtum(key_model, param,momemtum, grad_log_post, dt, X_batch)\n",
    "        loss.append(log_post(param,X_batch))\n",
    "        samples.append(param)\n",
    "        if (i%(num_samples//10)==0):\n",
    "            print('iteration {0}, loss {1:.2f}'.format(i,loss[-1]))\n",
    "    return samples,loss\n"
   ]
  },
  {
   "cell_type": "code",
   "execution_count": 14,
   "metadata": {},
   "outputs": [],
   "source": [
    "RANDOM_SEED = 8927\n",
    "rng = np.random.default_rng(RANDOM_SEED)\n",
    "\n",
    "k = 3\n",
    "ndata = 500\n",
    "centers = np.array([-5.0, 0.0, 5.0])\n",
    "sds = np.array([0.5, 2.0, 0.75])\n",
    "idx = rng.integers(0, k, ndata)\n",
    "X = rng.normal(loc=centers[idx], scale=sds[idx], size=ndata)"
   ]
  },
  {
   "cell_type": "code",
   "execution_count": 15,
   "metadata": {},
   "outputs": [
    {
     "data": {
      "text/plain": [
       "(500,)"
      ]
     },
     "execution_count": 15,
     "metadata": {},
     "output_type": "execute_result"
    }
   ],
   "source": [
    "X.shape"
   ]
  },
  {
   "cell_type": "code",
   "execution_count": 26,
   "metadata": {},
   "outputs": [
    {
     "name": "stdout",
     "output_type": "stream",
     "text": [
      "iteration 500, loss 2.71\n",
      "iteration 1000, loss 2.69\n",
      "iteration 1500, loss 2.75\n",
      "iteration 2000, loss 2.71\n",
      "iteration 2500, loss nan\n",
      "iteration 3000, loss nan\n",
      "iteration 3500, loss nan\n",
      "iteration 4000, loss nan\n",
      "iteration 4500, loss nan\n",
      "iteration 5000, loss 2.72\n"
     ]
    }
   ],
   "source": [
    "key=jax.random.PRNGKey(RANDOM_SEED)\n",
    "key_model,key_data=jax.random.split(key,2)\n",
    "key_mu,key_sigma=jax.random.split(key_model,2)\n",
    "params={'weights':jnp.ones(3)/3.,\n",
    "        'mus':jax.random.normal(key_mu,shape=(3,)),\n",
    "        'sigmas':jax.random.normal(key_sigma,shape=(3,))}\n",
    "samples,loss=sgld(key_data,log_post, grad_log_post, 5_000,1e-2,params,X,256)\n",
    "\n",
    "posterior_means=jnp.stack([s['mus'] for s in samples])\n",
    "posterior_weights=jnp.stack([s['weights'] for s in samples])\n",
    "posterior_sigmas=jnp.stack([s['sigmas'] for s in samples])"
   ]
  },
  {
   "cell_type": "code",
   "execution_count": 27,
   "metadata": {},
   "outputs": [
    {
     "data": {
      "text/plain": [
       "Array([ 0.01772566, -4.0599813 ,  4.1311407 ], dtype=float32)"
      ]
     },
     "execution_count": 27,
     "metadata": {},
     "output_type": "execute_result"
    }
   ],
   "source": [
    "jnp.median(posterior_means,axis=0)"
   ]
  },
  {
   "cell_type": "code",
   "execution_count": 28,
   "metadata": {},
   "outputs": [
    {
     "data": {
      "text/plain": [
       "5000"
      ]
     },
     "execution_count": 28,
     "metadata": {},
     "output_type": "execute_result"
    }
   ],
   "source": [
    "len(samples)"
   ]
  },
  {
   "cell_type": "code",
   "execution_count": 15,
   "metadata": {},
   "outputs": [],
   "source": [
    "np.save('data/posterior_means',np.asarray(posterior_means))\n",
    "np.save('data/posterior_weights',np.asarray(posterior_weights))\n",
    "np.save('data/posterior_sigmas',np.asarray(posterior_sigmas))\n"
   ]
  },
  {
   "cell_type": "code",
   "execution_count": 7,
   "metadata": {},
   "outputs": [],
   "source": [
    "with open('data/posterior_means.npy','rb') as f:\n",
    "    posterior_means=np.load(f)\n",
    "with open('data/posterior_weights.npy','rb') as f:\n",
    "    posterior_weights=np.load(f)\n",
    "with open('data/posterior_sigmas.npy','rb') as f:\n",
    "    posterior_sigmas=np.load(f)"
   ]
  },
  {
   "cell_type": "code",
   "execution_count": 29,
   "metadata": {},
   "outputs": [
    {
     "data": {
      "text/plain": [
       "(5000, 3)"
      ]
     },
     "execution_count": 29,
     "metadata": {},
     "output_type": "execute_result"
    }
   ],
   "source": [
    "posterior_means.shape"
   ]
  },
  {
   "cell_type": "code",
   "execution_count": 30,
   "metadata": {},
   "outputs": [],
   "source": [
    "def quantization(x, s, z, alpha_q, beta_q):\n",
    "    x_q = np.round(1 / s * x + z, decimals=0)\n",
    "    x_q = np.clip(x_q, a_min=alpha_q, a_max=beta_q)\n",
    "    return x_q\n",
    "\n",
    "\n",
    "def quantization_int8(x, s, z):\n",
    "    x_q = quantization(x, s, z, alpha_q=-128, beta_q=127)\n",
    "    x_q = x_q.astype(np.int8)\n",
    "    return x_q\n",
    "\n",
    "def dequantization(x_q, s, z):\n",
    "    # x_q - z might go outside the quantization range.\n",
    "    x_q = x_q.astype(np.int32)\n",
    "    x = s * (x_q - z)\n",
    "    x = x.astype(np.float64)\n",
    "    return x\n",
    "\n",
    "\n",
    "def generate_quantization_constants(alpha, beta, alpha_q, beta_q):\n",
    "    # Affine quantization mapping\n",
    "    s = (beta - alpha) / (beta_q - alpha_q)\n",
    "    z = int((beta * alpha_q - alpha * beta_q) / (beta - alpha))\n",
    "    return s, z\n",
    "\n",
    "\n",
    "def generate_quantization_int8_constants(alpha, beta):\n",
    "    b = 8\n",
    "    alpha_q = -2**(b - 1)\n",
    "    beta_q = 2**(b - 1) - 1\n",
    "    s, z = generate_quantization_constants(alpha=alpha,\n",
    "                                           beta=beta,\n",
    "                                           alpha_q=alpha_q,\n",
    "                                           beta_q=beta_q)\n",
    "    return s, z"
   ]
  },
  {
   "cell_type": "code",
   "execution_count": 31,
   "metadata": {},
   "outputs": [],
   "source": [
    "\n",
    "def quantize_samples(samples):\n",
    "    s=list()\n",
    "    z=list()\n",
    "    q_samples=np.zeros_like(samples).astype(np.int8)\n",
    "    for i in range(samples.shape[0]):\n",
    "        alpha=np.min(samples[i,:])\n",
    "        beta=np.max(samples[i,:])\n",
    "        ss,zz=generate_quantization_int8_constants(alpha,beta)\n",
    "        x_q=quantization_int8(samples[i,:],ss,zz)\n",
    "        q_samples[i,:]=x_q\n",
    "        s.append(ss)\n",
    "        z.append(zz)\n",
    "    return q_samples,s,z\n",
    "\n",
    "def dequantizate_samples(q_samples,s,z):\n",
    "    samples=np.zeros_like(q_samples).astype(np.float16)\n",
    "    for i in range(q_samples.shape[0]):\n",
    "        samples[i,:]=dequantization(q_samples[i,:], s[i], z[i])\n",
    "    return samples"
   ]
  },
  {
   "cell_type": "code",
   "execution_count": 32,
   "metadata": {},
   "outputs": [],
   "source": [
    "posterior_means=np.asarray(posterior_means)\n",
    "posterior_weights=np.asarray(posterior_weights)\n",
    "posterior_sigmas=np.asarray(posterior_sigmas)"
   ]
  },
  {
   "cell_type": "code",
   "execution_count": 33,
   "metadata": {},
   "outputs": [],
   "source": [
    "q_means,s,z=quantize_samples(posterior_means)\n",
    "r_means=dequantizate_samples(q_means,s,z)\n",
    "\n",
    "q_weights,s,z=quantize_samples(posterior_weights)\n",
    "r_weights=dequantizate_samples(q_means,s,z)\n",
    "\n",
    "q_sigmas,s,z=quantize_samples(posterior_sigmas)\n",
    "r_sigmas=dequantizate_samples(q_sigmas,s,z)"
   ]
  },
  {
   "cell_type": "code",
   "execution_count": 34,
   "metadata": {},
   "outputs": [],
   "source": [
    "from scipy.stats import norm\n",
    "\n",
    "mus=np.median(posterior_means,axis=0)\n",
    "sigmas=np.median(posterior_sigmas,axis=0)\n",
    "weights=np.median(posterior_weights,axis=0)\n",
    "\n",
    "x = np.linspace(X.min(), X.max(), 1000)\n",
    "y0 = weights[0]*norm.pdf(x, mus[0], np.sqrt(sigmas[0]))\n",
    "y1 = weights[1]*norm.pdf(x, mus[1], np.sqrt(sigmas[1]))\n",
    "y2 = weights[2]*norm.pdf(x, mus[2], np.sqrt(sigmas[2]))"
   ]
  },
  {
   "cell_type": "code",
   "execution_count": 35,
   "metadata": {},
   "outputs": [
    {
     "data": {
      "text/plain": [
       "Text(0.5, 1.0, 'SG-MCMC Posterior Samples')"
      ]
     },
     "execution_count": 35,
     "metadata": {},
     "output_type": "execute_result"
    },
    {
     "data": {
      "image/png": "[encoded data removed]",
      "text/plain": [
       "<Figure size 432x288 with 1 Axes>"
      ]
     },
     "metadata": {
      "needs_background": "light"
     },
     "output_type": "display_data"
    }
   ],
   "source": [
    "import matplotlib.pyplot as plt\n",
    "from matplotlib.patches import Ellipse\n",
    "from matplotlib import rc\n",
    "rc('font',**{'family':'sans-serif','sans-serif':['Helvetica']})\n",
    "## for Palatino and other serif fonts use:\n",
    "#rc('font',**{'family':'serif','serif':['Palatino']})\n",
    "rc('text', usetex=True)\n",
    "\n",
    "\n",
    "plt.hist(X, bins=50, density=True, ec='red', alpha=0.5);\n",
    "plt.plot(x,y0,'--',c='black',lw=3)\n",
    "plt.plot(x,y1,'--',c='black',lw=3)\n",
    "plt.plot(x,y2,'--',c='black',lw=3)\n",
    "plt.title('SG-MCMC Posterior Samples')"
   ]
  },
  {
   "cell_type": "code",
   "execution_count": 36,
   "metadata": {},
   "outputs": [],
   "source": [
    "mus=np.median(r_means,axis=0)\n",
    "sigmas=np.median(r_sigmas,axis=0)\n",
    "weights=np.median(r_weights,axis=0)\n",
    "\n",
    "x = np.linspace(X.min(), X.max(), 1000)\n",
    "y0 = weights[0]*norm.pdf(x, mus[0], np.sqrt(sigmas[0]))\n",
    "y1 = weights[1]*norm.pdf(x, mus[1], np.sqrt(sigmas[1]))\n",
    "y2 = weights[2]*norm.pdf(x, mus[2], np.sqrt(sigmas[2]))"
   ]
  },
  {
   "cell_type": "code",
   "execution_count": 37,
   "metadata": {},
   "outputs": [
    {
     "data": {
      "text/plain": [
       "Text(0.5, 1.0, 'SG-MCMC Quantized Posterior Samples')"
      ]
     },
     "execution_count": 37,
     "metadata": {},
     "output_type": "execute_result"
    },
    {
     "data": {
      "image/png": "[encoded data removed]",
      "text/plain": [
       "<Figure size 432x288 with 1 Axes>"
      ]
     },
     "metadata": {
      "needs_background": "light"
     },
     "output_type": "display_data"
    }
   ],
   "source": [
    "plt.hist(X, bins=50, density=True, ec='red', alpha=0.5);\n",
    "plt.plot(x,y0,'--',c='black',lw=3)\n",
    "plt.plot(x,y1,'--',c='black',lw=3)\n",
    "plt.plot(x,y2,'--',c='black',lw=3)\n",
    "plt.title('SG-MCMC Quantized Posterior Samples')"
   ]
  },
  {
   "cell_type": "code",
   "execution_count": 38,
   "metadata": {},
   "outputs": [],
   "source": [
    "grads=[grad_log_post(s,X) for s in samples]\n",
    "grad_means=jnp.stack([g['mus'] for g in grads])\n",
    "grad_weights=jnp.stack([g['weights'] for g in grads])\n",
    "grad_sigmas=jnp.stack([g['sigmas'] for g in grads])"
   ]
  },
  {
   "cell_type": "code",
   "execution_count": 39,
   "metadata": {},
   "outputs": [],
   "source": [
    "from stein_thinning.stein import ksd, kmat\n",
    "from stein_thinning.thinning import thin\n",
    "from stein_thinning.kernel import make_imq, make_precon\n",
    "\n",
    "idx_means = thin(posterior_means, grad_means, 1000)\n",
    "idx_sigmas = thin(posterior_sigmas, grad_sigmas, 1000)\n",
    "idx_weights = thin(posterior_weights, grad_weights, 1000)\n",
    "\n",
    "mus=np.median(posterior_means[idx_means],axis=0)\n",
    "sigmas=np.median(posterior_sigmas[idx_sigmas],axis=0)\n",
    "weights=np.median(posterior_weights[idx_weights],axis=0)\n",
    "\n",
    "x = np.linspace(X.min(), X.max(), 1000)\n",
    "y0 = weights[0]*norm.pdf(x, mus[0], np.sqrt(sigmas[0]))\n",
    "y1 = weights[1]*norm.pdf(x, mus[1], np.sqrt(sigmas[1]))\n",
    "y2 = weights[2]*norm.pdf(x, mus[2], np.sqrt(sigmas[2]))\n"
   ]
  },
  {
   "cell_type": "code",
   "execution_count": 42,
   "metadata": {},
   "outputs": [
    {
     "name": "stdout",
     "output_type": "stream",
     "text": [
      "thinned means :  [-0.31064352 -3.6334753   3.9966583 ]\n",
      "thinned sigmas :  [2.7171826 2.1461887 1.9323039]\n",
      "thinned weights :  [0.26857674 0.35549766 0.34679332]\n"
     ]
    }
   ],
   "source": [
    "print('thinned means : ',mus)\n",
    "print('thinned sigmas : ',sigmas)\n",
    "print('thinned weights : ',weights)"
   ]
  },
  {
   "cell_type": "code",
   "execution_count": 43,
   "metadata": {},
   "outputs": [
    {
     "name": "stdout",
     "output_type": "stream",
     "text": [
      "quantized means :  [ 0.02817 -4.05     4.12   ]\n",
      "quantized sigmas :  [2.668 1.912 1.818]\n",
      "quantized weights :  [0.327  0.2534 0.3992]\n"
     ]
    }
   ],
   "source": [
    "print('quantized means : ',np.median(r_means,axis=0))\n",
    "print('quantized sigmas : ',np.median(r_sigmas,axis=0))\n",
    "print('quantized weights : ',np.median(r_weights,axis=0))"
   ]
  },
  {
   "cell_type": "code",
   "execution_count": 40,
   "metadata": {},
   "outputs": [
    {
     "data": {
      "text/plain": [
       "Text(0.5, 1.0, 'SG-MCMC Stein Thinned Posterior Samples')"
      ]
     },
     "execution_count": 40,
     "metadata": {},
     "output_type": "execute_result"
    },
    {
     "data": {
      "image/png": "[encoded data removed]",
      "text/plain": [
       "<Figure size 432x288 with 1 Axes>"
      ]
     },
     "metadata": {
      "needs_background": "light"
     },
     "output_type": "display_data"
    }
   ],
   "source": [
    "plt.hist(X, bins=50, density=True, ec='red', alpha=0.5);\n",
    "plt.plot(x,y0,'--',c='black',lw=3)\n",
    "plt.plot(x,y1,'--',c='black',lw=3)\n",
    "plt.plot(x,y2,'--',c='black',lw=3)\n",
    "plt.title('SG-MCMC Stein Thinned Posterior Samples')"
   ]
  },
  {
   "cell_type": "code",
   "execution_count": 46,
   "metadata": {},
   "outputs": [
    {
     "name": "stdout",
     "output_type": "stream",
     "text": [
      "size thinned means :  12000\n",
      "sizethinned sigmas :  12000\n",
      "size thinned weights :  12000\n"
     ]
    }
   ],
   "source": [
    "print('size thinned means : ',posterior_means[idx_means].nbytes)\n",
    "print('sizethinned sigmas : ',posterior_sigmas[idx_means].nbytes)\n",
    "print('size thinned weights : ',posterior_weights[idx_means].nbytes)"
   ]
  },
  {
   "cell_type": "markdown",
   "metadata": {},
   "source": []
  },
  {
   "cell_type": "code",
   "execution_count": 49,
   "metadata": {},
   "outputs": [
    {
     "name": "stdout",
     "output_type": "stream",
     "text": [
      "size  means :  60000\n",
      "size sigmas :  60000\n",
      "size weights :  60000\n"
     ]
    }
   ],
   "source": [
    "print('size  means : ',posterior_means.nbytes)\n",
    "print('size sigmas : ',posterior_sigmas.nbytes)\n",
    "print('size weights : ',posterior_weights.nbytes)"
   ]
  },
  {
   "cell_type": "code",
   "execution_count": 51,
   "metadata": {},
   "outputs": [
    {
     "name": "stdout",
     "output_type": "stream",
     "text": [
      "size  qunatized means :  15000\n",
      "size qunatized sigmas :  15000\n",
      "size qunatized weights :  15000\n"
     ]
    }
   ],
   "source": [
    "print('size  qunatized means : ',q_means.nbytes)\n",
    "print('size qunatized sigmas : ',q_sigmas.nbytes)\n",
    "print('size qunatized weights : ',q_weights.nbytes)"
   ]
  },
  {
   "cell_type": "code",
   "execution_count": 44,
   "metadata": {},
   "outputs": [
    {
     "data": {
      "text/plain": [
       "12000"
      ]
     },
     "execution_count": 44,
     "metadata": {},
     "output_type": "execute_result"
    }
   ],
   "source": [
    "posterior_means[idx_means].nbytes"
   ]
  }
 ],
 "metadata": {
  "kernelspec": {
   "display_name": "env",
   "language": "python",
   "name": "python3"
  },
  "language_info": {
   "codemirror_mode": {
    "name": "ipython",
    "version": 3
   },
   "file_extension": ".py",
   "mimetype": "text/x-python",
   "name": "python",
   "nbconvert_exporter": "python",
   "pygments_lexer": "ipython3",
   "version": "3.8.17"
  },
  "orig_nbformat": 4
 },
 "nbformat": 4,
 "nbformat_minor": 2
}
